{
  "nbformat": 4,
  "nbformat_minor": 0,
  "metadata": {
    "colab": {
      "name": "YALCIN_adult_census_income.ipynb",
      "version": "0.3.2",
      "provenance": [],
      "collapsed_sections": [],
      "include_colab_link": true
    },
    "kernelspec": {
      "name": "python3",
      "display_name": "Python 3"
    }
  },
  "cells": [
    {
      "cell_type": "markdown",
      "metadata": {
        "id": "view-in-github",
        "colab_type": "text"
      },
      "source": [
        "<a href=\"https://colab.research.google.com/github/semreyalcin/CNG562-HW1/blob/master/YALCIN_adult_census_income.ipynb\" target=\"_parent\"><img src=\"https://colab.research.google.com/assets/colab-badge.svg\" alt=\"Open In Colab\"/></a>"
      ]
    },
    {
      "metadata": {
        "id": "w9-Dac_v8rkz",
        "colab_type": "text"
      },
      "cell_type": "markdown",
      "source": [
        "# Selim Emre Yalçın\n",
        "2152205\n",
        "\n",
        "Adult Census Income"
      ]
    },
    {
      "metadata": {
        "id": "CpA4VZ3p85QC",
        "colab_type": "text"
      },
      "cell_type": "markdown",
      "source": [
        "-----------------------------------------------------\n",
        "Importing the data from github and ignoring the warnings."
      ]
    },
    {
      "metadata": {
        "id": "eRoOBdry_msi",
        "colab_type": "code",
        "colab": {
          "base_uri": "https://localhost:8080/",
          "height": 204
        },
        "outputId": "c1f3b256-e03b-4e51-eebd-cfc0c0abba6a"
      },
      "cell_type": "code",
      "source": [
        "import warnings\n",
        "warnings.filterwarnings('ignore')\n",
        "\n",
        "import pandas as pd\n",
        "import numpy as np\n",
        "url = 'https://raw.githubusercontent.com/semreyalcin/CNG562-HW1/master/adult.csv'\n",
        "data = pd.read_csv(url)\n",
        "data.head()"
      ],
      "execution_count": 1,
      "outputs": [
        {
          "output_type": "execute_result",
          "data": {
            "text/html": [
              "<div>\n",
              "<style scoped>\n",
              "    .dataframe tbody tr th:only-of-type {\n",
              "        vertical-align: middle;\n",
              "    }\n",
              "\n",
              "    .dataframe tbody tr th {\n",
              "        vertical-align: top;\n",
              "    }\n",
              "\n",
              "    .dataframe thead th {\n",
              "        text-align: right;\n",
              "    }\n",
              "</style>\n",
              "<table border=\"1\" class=\"dataframe\">\n",
              "  <thead>\n",
              "    <tr style=\"text-align: right;\">\n",
              "      <th></th>\n",
              "      <th>age</th>\n",
              "      <th>workclass</th>\n",
              "      <th>fnlwgt</th>\n",
              "      <th>education</th>\n",
              "      <th>education.num</th>\n",
              "      <th>marital.status</th>\n",
              "      <th>occupation</th>\n",
              "      <th>relationship</th>\n",
              "      <th>race</th>\n",
              "      <th>sex</th>\n",
              "      <th>capital.gain</th>\n",
              "      <th>capital.loss</th>\n",
              "      <th>hours.per.week</th>\n",
              "      <th>native.country</th>\n",
              "      <th>income</th>\n",
              "    </tr>\n",
              "  </thead>\n",
              "  <tbody>\n",
              "    <tr>\n",
              "      <th>0</th>\n",
              "      <td>39</td>\n",
              "      <td>State-gov</td>\n",
              "      <td>77516</td>\n",
              "      <td>Bachelors</td>\n",
              "      <td>13</td>\n",
              "      <td>Never-married</td>\n",
              "      <td>Adm-clerical</td>\n",
              "      <td>Not-in-family</td>\n",
              "      <td>White</td>\n",
              "      <td>Male</td>\n",
              "      <td>2174</td>\n",
              "      <td>0</td>\n",
              "      <td>40</td>\n",
              "      <td>United-States</td>\n",
              "      <td>&lt;=50K</td>\n",
              "    </tr>\n",
              "    <tr>\n",
              "      <th>1</th>\n",
              "      <td>50</td>\n",
              "      <td>Self-emp-not-inc</td>\n",
              "      <td>83311</td>\n",
              "      <td>Bachelors</td>\n",
              "      <td>13</td>\n",
              "      <td>Married-civ-spouse</td>\n",
              "      <td>Exec-managerial</td>\n",
              "      <td>Husband</td>\n",
              "      <td>White</td>\n",
              "      <td>Male</td>\n",
              "      <td>0</td>\n",
              "      <td>0</td>\n",
              "      <td>13</td>\n",
              "      <td>United-States</td>\n",
              "      <td>&lt;=50K</td>\n",
              "    </tr>\n",
              "    <tr>\n",
              "      <th>2</th>\n",
              "      <td>38</td>\n",
              "      <td>Private</td>\n",
              "      <td>215646</td>\n",
              "      <td>HS-grad</td>\n",
              "      <td>9</td>\n",
              "      <td>Divorced</td>\n",
              "      <td>Handlers-cleaners</td>\n",
              "      <td>Not-in-family</td>\n",
              "      <td>White</td>\n",
              "      <td>Male</td>\n",
              "      <td>0</td>\n",
              "      <td>0</td>\n",
              "      <td>40</td>\n",
              "      <td>United-States</td>\n",
              "      <td>&lt;=50K</td>\n",
              "    </tr>\n",
              "    <tr>\n",
              "      <th>3</th>\n",
              "      <td>53</td>\n",
              "      <td>Private</td>\n",
              "      <td>234721</td>\n",
              "      <td>11th</td>\n",
              "      <td>7</td>\n",
              "      <td>Married-civ-spouse</td>\n",
              "      <td>Handlers-cleaners</td>\n",
              "      <td>Husband</td>\n",
              "      <td>Black</td>\n",
              "      <td>Male</td>\n",
              "      <td>0</td>\n",
              "      <td>0</td>\n",
              "      <td>40</td>\n",
              "      <td>United-States</td>\n",
              "      <td>&lt;=50K</td>\n",
              "    </tr>\n",
              "    <tr>\n",
              "      <th>4</th>\n",
              "      <td>28</td>\n",
              "      <td>Private</td>\n",
              "      <td>338409</td>\n",
              "      <td>Bachelors</td>\n",
              "      <td>13</td>\n",
              "      <td>Married-civ-spouse</td>\n",
              "      <td>Prof-specialty</td>\n",
              "      <td>Wife</td>\n",
              "      <td>Black</td>\n",
              "      <td>Female</td>\n",
              "      <td>0</td>\n",
              "      <td>0</td>\n",
              "      <td>40</td>\n",
              "      <td>Cuba</td>\n",
              "      <td>&lt;=50K</td>\n",
              "    </tr>\n",
              "  </tbody>\n",
              "</table>\n",
              "</div>"
            ],
            "text/plain": [
              "   age          workclass  fnlwgt   education  education.num  \\\n",
              "0   39          State-gov   77516   Bachelors             13   \n",
              "1   50   Self-emp-not-inc   83311   Bachelors             13   \n",
              "2   38            Private  215646     HS-grad              9   \n",
              "3   53            Private  234721        11th              7   \n",
              "4   28            Private  338409   Bachelors             13   \n",
              "\n",
              "        marital.status          occupation    relationship    race      sex  \\\n",
              "0        Never-married        Adm-clerical   Not-in-family   White     Male   \n",
              "1   Married-civ-spouse     Exec-managerial         Husband   White     Male   \n",
              "2             Divorced   Handlers-cleaners   Not-in-family   White     Male   \n",
              "3   Married-civ-spouse   Handlers-cleaners         Husband   Black     Male   \n",
              "4   Married-civ-spouse      Prof-specialty            Wife   Black   Female   \n",
              "\n",
              "   capital.gain  capital.loss  hours.per.week  native.country  income  \n",
              "0          2174             0              40   United-States   <=50K  \n",
              "1             0             0              13   United-States   <=50K  \n",
              "2             0             0              40   United-States   <=50K  \n",
              "3             0             0              40   United-States   <=50K  \n",
              "4             0             0              40            Cuba   <=50K  "
            ]
          },
          "metadata": {
            "tags": []
          },
          "execution_count": 1
        }
      ]
    },
    {
      "metadata": {
        "id": "tO8xBSdW9B3A",
        "colab_type": "text"
      },
      "cell_type": "markdown",
      "source": [
        "Trying to see what happens if we convert all the data into categorical data since we have many strings in the data."
      ]
    },
    {
      "metadata": {
        "id": "Xtx7Cc6F_7D9",
        "colab_type": "code",
        "colab": {
          "base_uri": "https://localhost:8080/",
          "height": 1887
        },
        "outputId": "e4705518-3441-46c5-acba-53924a549b6a"
      },
      "cell_type": "code",
      "source": [
        "list(pd.get_dummies(data))"
      ],
      "execution_count": 2,
      "outputs": [
        {
          "output_type": "execute_result",
          "data": {
            "text/plain": [
              "['age',\n",
              " 'fnlwgt',\n",
              " 'education.num',\n",
              " 'capital.gain',\n",
              " 'capital.loss',\n",
              " 'hours.per.week',\n",
              " 'workclass_ ?',\n",
              " 'workclass_ Federal-gov',\n",
              " 'workclass_ Local-gov',\n",
              " 'workclass_ Never-worked',\n",
              " 'workclass_ Private',\n",
              " 'workclass_ Self-emp-inc',\n",
              " 'workclass_ Self-emp-not-inc',\n",
              " 'workclass_ State-gov',\n",
              " 'workclass_ Without-pay',\n",
              " 'education_ 10th',\n",
              " 'education_ 11th',\n",
              " 'education_ 12th',\n",
              " 'education_ 1st-4th',\n",
              " 'education_ 5th-6th',\n",
              " 'education_ 7th-8th',\n",
              " 'education_ 9th',\n",
              " 'education_ Assoc-acdm',\n",
              " 'education_ Assoc-voc',\n",
              " 'education_ Bachelors',\n",
              " 'education_ Doctorate',\n",
              " 'education_ HS-grad',\n",
              " 'education_ Masters',\n",
              " 'education_ Preschool',\n",
              " 'education_ Prof-school',\n",
              " 'education_ Some-college',\n",
              " 'marital.status_ Divorced',\n",
              " 'marital.status_ Married-AF-spouse',\n",
              " 'marital.status_ Married-civ-spouse',\n",
              " 'marital.status_ Married-spouse-absent',\n",
              " 'marital.status_ Never-married',\n",
              " 'marital.status_ Separated',\n",
              " 'marital.status_ Widowed',\n",
              " 'occupation_ ?',\n",
              " 'occupation_ Adm-clerical',\n",
              " 'occupation_ Armed-Forces',\n",
              " 'occupation_ Craft-repair',\n",
              " 'occupation_ Exec-managerial',\n",
              " 'occupation_ Farming-fishing',\n",
              " 'occupation_ Handlers-cleaners',\n",
              " 'occupation_ Machine-op-inspct',\n",
              " 'occupation_ Other-service',\n",
              " 'occupation_ Priv-house-serv',\n",
              " 'occupation_ Prof-specialty',\n",
              " 'occupation_ Protective-serv',\n",
              " 'occupation_ Sales',\n",
              " 'occupation_ Tech-support',\n",
              " 'occupation_ Transport-moving',\n",
              " 'relationship_ Husband',\n",
              " 'relationship_ Not-in-family',\n",
              " 'relationship_ Other-relative',\n",
              " 'relationship_ Own-child',\n",
              " 'relationship_ Unmarried',\n",
              " 'relationship_ Wife',\n",
              " 'race_ Amer-Indian-Eskimo',\n",
              " 'race_ Asian-Pac-Islander',\n",
              " 'race_ Black',\n",
              " 'race_ Other',\n",
              " 'race_ White',\n",
              " 'sex_ Female',\n",
              " 'sex_ Male',\n",
              " 'native.country_ ?',\n",
              " 'native.country_ Cambodia',\n",
              " 'native.country_ Canada',\n",
              " 'native.country_ China',\n",
              " 'native.country_ Columbia',\n",
              " 'native.country_ Cuba',\n",
              " 'native.country_ Dominican-Republic',\n",
              " 'native.country_ Ecuador',\n",
              " 'native.country_ El-Salvador',\n",
              " 'native.country_ England',\n",
              " 'native.country_ France',\n",
              " 'native.country_ Germany',\n",
              " 'native.country_ Greece',\n",
              " 'native.country_ Guatemala',\n",
              " 'native.country_ Haiti',\n",
              " 'native.country_ Holand-Netherlands',\n",
              " 'native.country_ Honduras',\n",
              " 'native.country_ Hong',\n",
              " 'native.country_ Hungary',\n",
              " 'native.country_ India',\n",
              " 'native.country_ Iran',\n",
              " 'native.country_ Ireland',\n",
              " 'native.country_ Italy',\n",
              " 'native.country_ Jamaica',\n",
              " 'native.country_ Japan',\n",
              " 'native.country_ Laos',\n",
              " 'native.country_ Mexico',\n",
              " 'native.country_ Nicaragua',\n",
              " 'native.country_ Outlying-US(Guam-USVI-etc)',\n",
              " 'native.country_ Peru',\n",
              " 'native.country_ Philippines',\n",
              " 'native.country_ Poland',\n",
              " 'native.country_ Portugal',\n",
              " 'native.country_ Puerto-Rico',\n",
              " 'native.country_ Scotland',\n",
              " 'native.country_ South',\n",
              " 'native.country_ Taiwan',\n",
              " 'native.country_ Thailand',\n",
              " 'native.country_ Trinadad&Tobago',\n",
              " 'native.country_ United-States',\n",
              " 'native.country_ Vietnam',\n",
              " 'native.country_ Yugoslavia',\n",
              " 'income_ <=50K',\n",
              " 'income_ >50K']"
            ]
          },
          "metadata": {
            "tags": []
          },
          "execution_count": 2
        }
      ]
    },
    {
      "metadata": {
        "id": "z1v-cBWc9g6q",
        "colab_type": "text"
      },
      "cell_type": "markdown",
      "source": [
        "Since we don't have many columns with unknown values like \"?\", I convert the data"
      ]
    },
    {
      "metadata": {
        "id": "jx6dCjLmAb1L",
        "colab_type": "code",
        "colab": {
          "base_uri": "https://localhost:8080/",
          "height": 287
        },
        "outputId": "57b7d441-e2e0-4ab3-cb01-b213341083ca"
      },
      "cell_type": "code",
      "source": [
        "data = pd.get_dummies(data)\n",
        "data.head()"
      ],
      "execution_count": 3,
      "outputs": [
        {
          "output_type": "execute_result",
          "data": {
            "text/html": [
              "<div>\n",
              "<style scoped>\n",
              "    .dataframe tbody tr th:only-of-type {\n",
              "        vertical-align: middle;\n",
              "    }\n",
              "\n",
              "    .dataframe tbody tr th {\n",
              "        vertical-align: top;\n",
              "    }\n",
              "\n",
              "    .dataframe thead th {\n",
              "        text-align: right;\n",
              "    }\n",
              "</style>\n",
              "<table border=\"1\" class=\"dataframe\">\n",
              "  <thead>\n",
              "    <tr style=\"text-align: right;\">\n",
              "      <th></th>\n",
              "      <th>age</th>\n",
              "      <th>fnlwgt</th>\n",
              "      <th>education.num</th>\n",
              "      <th>capital.gain</th>\n",
              "      <th>capital.loss</th>\n",
              "      <th>hours.per.week</th>\n",
              "      <th>workclass_ ?</th>\n",
              "      <th>workclass_ Federal-gov</th>\n",
              "      <th>workclass_ Local-gov</th>\n",
              "      <th>workclass_ Never-worked</th>\n",
              "      <th>...</th>\n",
              "      <th>native.country_ Scotland</th>\n",
              "      <th>native.country_ South</th>\n",
              "      <th>native.country_ Taiwan</th>\n",
              "      <th>native.country_ Thailand</th>\n",
              "      <th>native.country_ Trinadad&amp;Tobago</th>\n",
              "      <th>native.country_ United-States</th>\n",
              "      <th>native.country_ Vietnam</th>\n",
              "      <th>native.country_ Yugoslavia</th>\n",
              "      <th>income_ &lt;=50K</th>\n",
              "      <th>income_ &gt;50K</th>\n",
              "    </tr>\n",
              "  </thead>\n",
              "  <tbody>\n",
              "    <tr>\n",
              "      <th>0</th>\n",
              "      <td>39</td>\n",
              "      <td>77516</td>\n",
              "      <td>13</td>\n",
              "      <td>2174</td>\n",
              "      <td>0</td>\n",
              "      <td>40</td>\n",
              "      <td>0</td>\n",
              "      <td>0</td>\n",
              "      <td>0</td>\n",
              "      <td>0</td>\n",
              "      <td>...</td>\n",
              "      <td>0</td>\n",
              "      <td>0</td>\n",
              "      <td>0</td>\n",
              "      <td>0</td>\n",
              "      <td>0</td>\n",
              "      <td>1</td>\n",
              "      <td>0</td>\n",
              "      <td>0</td>\n",
              "      <td>1</td>\n",
              "      <td>0</td>\n",
              "    </tr>\n",
              "    <tr>\n",
              "      <th>1</th>\n",
              "      <td>50</td>\n",
              "      <td>83311</td>\n",
              "      <td>13</td>\n",
              "      <td>0</td>\n",
              "      <td>0</td>\n",
              "      <td>13</td>\n",
              "      <td>0</td>\n",
              "      <td>0</td>\n",
              "      <td>0</td>\n",
              "      <td>0</td>\n",
              "      <td>...</td>\n",
              "      <td>0</td>\n",
              "      <td>0</td>\n",
              "      <td>0</td>\n",
              "      <td>0</td>\n",
              "      <td>0</td>\n",
              "      <td>1</td>\n",
              "      <td>0</td>\n",
              "      <td>0</td>\n",
              "      <td>1</td>\n",
              "      <td>0</td>\n",
              "    </tr>\n",
              "    <tr>\n",
              "      <th>2</th>\n",
              "      <td>38</td>\n",
              "      <td>215646</td>\n",
              "      <td>9</td>\n",
              "      <td>0</td>\n",
              "      <td>0</td>\n",
              "      <td>40</td>\n",
              "      <td>0</td>\n",
              "      <td>0</td>\n",
              "      <td>0</td>\n",
              "      <td>0</td>\n",
              "      <td>...</td>\n",
              "      <td>0</td>\n",
              "      <td>0</td>\n",
              "      <td>0</td>\n",
              "      <td>0</td>\n",
              "      <td>0</td>\n",
              "      <td>1</td>\n",
              "      <td>0</td>\n",
              "      <td>0</td>\n",
              "      <td>1</td>\n",
              "      <td>0</td>\n",
              "    </tr>\n",
              "    <tr>\n",
              "      <th>3</th>\n",
              "      <td>53</td>\n",
              "      <td>234721</td>\n",
              "      <td>7</td>\n",
              "      <td>0</td>\n",
              "      <td>0</td>\n",
              "      <td>40</td>\n",
              "      <td>0</td>\n",
              "      <td>0</td>\n",
              "      <td>0</td>\n",
              "      <td>0</td>\n",
              "      <td>...</td>\n",
              "      <td>0</td>\n",
              "      <td>0</td>\n",
              "      <td>0</td>\n",
              "      <td>0</td>\n",
              "      <td>0</td>\n",
              "      <td>1</td>\n",
              "      <td>0</td>\n",
              "      <td>0</td>\n",
              "      <td>1</td>\n",
              "      <td>0</td>\n",
              "    </tr>\n",
              "    <tr>\n",
              "      <th>4</th>\n",
              "      <td>28</td>\n",
              "      <td>338409</td>\n",
              "      <td>13</td>\n",
              "      <td>0</td>\n",
              "      <td>0</td>\n",
              "      <td>40</td>\n",
              "      <td>0</td>\n",
              "      <td>0</td>\n",
              "      <td>0</td>\n",
              "      <td>0</td>\n",
              "      <td>...</td>\n",
              "      <td>0</td>\n",
              "      <td>0</td>\n",
              "      <td>0</td>\n",
              "      <td>0</td>\n",
              "      <td>0</td>\n",
              "      <td>0</td>\n",
              "      <td>0</td>\n",
              "      <td>0</td>\n",
              "      <td>1</td>\n",
              "      <td>0</td>\n",
              "    </tr>\n",
              "  </tbody>\n",
              "</table>\n",
              "<p>5 rows × 110 columns</p>\n",
              "</div>"
            ],
            "text/plain": [
              "   age  fnlwgt  education.num  capital.gain  capital.loss  hours.per.week  \\\n",
              "0   39   77516             13          2174             0              40   \n",
              "1   50   83311             13             0             0              13   \n",
              "2   38  215646              9             0             0              40   \n",
              "3   53  234721              7             0             0              40   \n",
              "4   28  338409             13             0             0              40   \n",
              "\n",
              "   workclass_ ?  workclass_ Federal-gov  workclass_ Local-gov  \\\n",
              "0             0                       0                     0   \n",
              "1             0                       0                     0   \n",
              "2             0                       0                     0   \n",
              "3             0                       0                     0   \n",
              "4             0                       0                     0   \n",
              "\n",
              "   workclass_ Never-worked      ...       native.country_ Scotland  \\\n",
              "0                        0      ...                              0   \n",
              "1                        0      ...                              0   \n",
              "2                        0      ...                              0   \n",
              "3                        0      ...                              0   \n",
              "4                        0      ...                              0   \n",
              "\n",
              "   native.country_ South  native.country_ Taiwan  native.country_ Thailand  \\\n",
              "0                      0                       0                         0   \n",
              "1                      0                       0                         0   \n",
              "2                      0                       0                         0   \n",
              "3                      0                       0                         0   \n",
              "4                      0                       0                         0   \n",
              "\n",
              "   native.country_ Trinadad&Tobago  native.country_ United-States  \\\n",
              "0                                0                              1   \n",
              "1                                0                              1   \n",
              "2                                0                              1   \n",
              "3                                0                              1   \n",
              "4                                0                              0   \n",
              "\n",
              "   native.country_ Vietnam  native.country_ Yugoslavia  income_ <=50K  \\\n",
              "0                        0                           0              1   \n",
              "1                        0                           0              1   \n",
              "2                        0                           0              1   \n",
              "3                        0                           0              1   \n",
              "4                        0                           0              1   \n",
              "\n",
              "   income_ >50K  \n",
              "0             0  \n",
              "1             0  \n",
              "2             0  \n",
              "3             0  \n",
              "4             0  \n",
              "\n",
              "[5 rows x 110 columns]"
            ]
          },
          "metadata": {
            "tags": []
          },
          "execution_count": 3
        }
      ]
    },
    {
      "metadata": {
        "id": "3DAokkRm9wvb",
        "colab_type": "text"
      },
      "cell_type": "markdown",
      "source": [
        "Dropping the rows with unknown values in the data. I could convert them into \"NaN\" values and think them as another kind of data since I lost almost 5K data by deleting them however I just want to see what happens."
      ]
    },
    {
      "metadata": {
        "id": "Kn9tgXV_nQis",
        "colab_type": "code",
        "colab": {}
      },
      "cell_type": "code",
      "source": [
        "data.drop(data.index[data['native.country_ ?'] == 1],inplace = True)\n",
        "data.drop(data.index[data['occupation_ ?'] == 1],inplace = True)\n",
        "data.drop(data.index[data['workclass_ ?'] == 1],inplace = True)"
      ],
      "execution_count": 0,
      "outputs": []
    },
    {
      "metadata": {
        "id": "nlRa3mxT-MQT",
        "colab_type": "text"
      },
      "cell_type": "markdown",
      "source": [
        "Dropping the unnecessary columns as well, because we can either derive them from other datas or we dont need them anymore."
      ]
    },
    {
      "metadata": {
        "id": "dEGtrRnJAxae",
        "colab_type": "code",
        "cellView": "code",
        "colab": {
          "base_uri": "https://localhost:8080/",
          "height": 287
        },
        "outputId": "286156a9-5179-4b6b-af72-e373ea76cb02"
      },
      "cell_type": "code",
      "source": [
        "data = data.drop(['income_ >50K','native.country_ ?','sex_ Female','occupation_ ?','workclass_ ?'],axis=1)\n",
        "list(pd.get_dummies(data))\n",
        "data.head()"
      ],
      "execution_count": 5,
      "outputs": [
        {
          "output_type": "execute_result",
          "data": {
            "text/html": [
              "<div>\n",
              "<style scoped>\n",
              "    .dataframe tbody tr th:only-of-type {\n",
              "        vertical-align: middle;\n",
              "    }\n",
              "\n",
              "    .dataframe tbody tr th {\n",
              "        vertical-align: top;\n",
              "    }\n",
              "\n",
              "    .dataframe thead th {\n",
              "        text-align: right;\n",
              "    }\n",
              "</style>\n",
              "<table border=\"1\" class=\"dataframe\">\n",
              "  <thead>\n",
              "    <tr style=\"text-align: right;\">\n",
              "      <th></th>\n",
              "      <th>age</th>\n",
              "      <th>fnlwgt</th>\n",
              "      <th>education.num</th>\n",
              "      <th>capital.gain</th>\n",
              "      <th>capital.loss</th>\n",
              "      <th>hours.per.week</th>\n",
              "      <th>workclass_ Federal-gov</th>\n",
              "      <th>workclass_ Local-gov</th>\n",
              "      <th>workclass_ Never-worked</th>\n",
              "      <th>workclass_ Private</th>\n",
              "      <th>...</th>\n",
              "      <th>native.country_ Puerto-Rico</th>\n",
              "      <th>native.country_ Scotland</th>\n",
              "      <th>native.country_ South</th>\n",
              "      <th>native.country_ Taiwan</th>\n",
              "      <th>native.country_ Thailand</th>\n",
              "      <th>native.country_ Trinadad&amp;Tobago</th>\n",
              "      <th>native.country_ United-States</th>\n",
              "      <th>native.country_ Vietnam</th>\n",
              "      <th>native.country_ Yugoslavia</th>\n",
              "      <th>income_ &lt;=50K</th>\n",
              "    </tr>\n",
              "  </thead>\n",
              "  <tbody>\n",
              "    <tr>\n",
              "      <th>0</th>\n",
              "      <td>39</td>\n",
              "      <td>77516</td>\n",
              "      <td>13</td>\n",
              "      <td>2174</td>\n",
              "      <td>0</td>\n",
              "      <td>40</td>\n",
              "      <td>0</td>\n",
              "      <td>0</td>\n",
              "      <td>0</td>\n",
              "      <td>0</td>\n",
              "      <td>...</td>\n",
              "      <td>0</td>\n",
              "      <td>0</td>\n",
              "      <td>0</td>\n",
              "      <td>0</td>\n",
              "      <td>0</td>\n",
              "      <td>0</td>\n",
              "      <td>1</td>\n",
              "      <td>0</td>\n",
              "      <td>0</td>\n",
              "      <td>1</td>\n",
              "    </tr>\n",
              "    <tr>\n",
              "      <th>1</th>\n",
              "      <td>50</td>\n",
              "      <td>83311</td>\n",
              "      <td>13</td>\n",
              "      <td>0</td>\n",
              "      <td>0</td>\n",
              "      <td>13</td>\n",
              "      <td>0</td>\n",
              "      <td>0</td>\n",
              "      <td>0</td>\n",
              "      <td>0</td>\n",
              "      <td>...</td>\n",
              "      <td>0</td>\n",
              "      <td>0</td>\n",
              "      <td>0</td>\n",
              "      <td>0</td>\n",
              "      <td>0</td>\n",
              "      <td>0</td>\n",
              "      <td>1</td>\n",
              "      <td>0</td>\n",
              "      <td>0</td>\n",
              "      <td>1</td>\n",
              "    </tr>\n",
              "    <tr>\n",
              "      <th>2</th>\n",
              "      <td>38</td>\n",
              "      <td>215646</td>\n",
              "      <td>9</td>\n",
              "      <td>0</td>\n",
              "      <td>0</td>\n",
              "      <td>40</td>\n",
              "      <td>0</td>\n",
              "      <td>0</td>\n",
              "      <td>0</td>\n",
              "      <td>1</td>\n",
              "      <td>...</td>\n",
              "      <td>0</td>\n",
              "      <td>0</td>\n",
              "      <td>0</td>\n",
              "      <td>0</td>\n",
              "      <td>0</td>\n",
              "      <td>0</td>\n",
              "      <td>1</td>\n",
              "      <td>0</td>\n",
              "      <td>0</td>\n",
              "      <td>1</td>\n",
              "    </tr>\n",
              "    <tr>\n",
              "      <th>3</th>\n",
              "      <td>53</td>\n",
              "      <td>234721</td>\n",
              "      <td>7</td>\n",
              "      <td>0</td>\n",
              "      <td>0</td>\n",
              "      <td>40</td>\n",
              "      <td>0</td>\n",
              "      <td>0</td>\n",
              "      <td>0</td>\n",
              "      <td>1</td>\n",
              "      <td>...</td>\n",
              "      <td>0</td>\n",
              "      <td>0</td>\n",
              "      <td>0</td>\n",
              "      <td>0</td>\n",
              "      <td>0</td>\n",
              "      <td>0</td>\n",
              "      <td>1</td>\n",
              "      <td>0</td>\n",
              "      <td>0</td>\n",
              "      <td>1</td>\n",
              "    </tr>\n",
              "    <tr>\n",
              "      <th>4</th>\n",
              "      <td>28</td>\n",
              "      <td>338409</td>\n",
              "      <td>13</td>\n",
              "      <td>0</td>\n",
              "      <td>0</td>\n",
              "      <td>40</td>\n",
              "      <td>0</td>\n",
              "      <td>0</td>\n",
              "      <td>0</td>\n",
              "      <td>1</td>\n",
              "      <td>...</td>\n",
              "      <td>0</td>\n",
              "      <td>0</td>\n",
              "      <td>0</td>\n",
              "      <td>0</td>\n",
              "      <td>0</td>\n",
              "      <td>0</td>\n",
              "      <td>0</td>\n",
              "      <td>0</td>\n",
              "      <td>0</td>\n",
              "      <td>1</td>\n",
              "    </tr>\n",
              "  </tbody>\n",
              "</table>\n",
              "<p>5 rows × 105 columns</p>\n",
              "</div>"
            ],
            "text/plain": [
              "   age  fnlwgt  education.num  capital.gain  capital.loss  hours.per.week  \\\n",
              "0   39   77516             13          2174             0              40   \n",
              "1   50   83311             13             0             0              13   \n",
              "2   38  215646              9             0             0              40   \n",
              "3   53  234721              7             0             0              40   \n",
              "4   28  338409             13             0             0              40   \n",
              "\n",
              "   workclass_ Federal-gov  workclass_ Local-gov  workclass_ Never-worked  \\\n",
              "0                       0                     0                        0   \n",
              "1                       0                     0                        0   \n",
              "2                       0                     0                        0   \n",
              "3                       0                     0                        0   \n",
              "4                       0                     0                        0   \n",
              "\n",
              "   workclass_ Private      ...        native.country_ Puerto-Rico  \\\n",
              "0                   0      ...                                  0   \n",
              "1                   0      ...                                  0   \n",
              "2                   1      ...                                  0   \n",
              "3                   1      ...                                  0   \n",
              "4                   1      ...                                  0   \n",
              "\n",
              "   native.country_ Scotland  native.country_ South  native.country_ Taiwan  \\\n",
              "0                         0                      0                       0   \n",
              "1                         0                      0                       0   \n",
              "2                         0                      0                       0   \n",
              "3                         0                      0                       0   \n",
              "4                         0                      0                       0   \n",
              "\n",
              "   native.country_ Thailand  native.country_ Trinadad&Tobago  \\\n",
              "0                         0                                0   \n",
              "1                         0                                0   \n",
              "2                         0                                0   \n",
              "3                         0                                0   \n",
              "4                         0                                0   \n",
              "\n",
              "   native.country_ United-States  native.country_ Vietnam  \\\n",
              "0                              1                        0   \n",
              "1                              1                        0   \n",
              "2                              1                        0   \n",
              "3                              1                        0   \n",
              "4                              0                        0   \n",
              "\n",
              "   native.country_ Yugoslavia  income_ <=50K  \n",
              "0                           0              1  \n",
              "1                           0              1  \n",
              "2                           0              1  \n",
              "3                           0              1  \n",
              "4                           0              1  \n",
              "\n",
              "[5 rows x 105 columns]"
            ]
          },
          "metadata": {
            "tags": []
          },
          "execution_count": 5
        }
      ]
    },
    {
      "metadata": {
        "id": "ZFJ2uw_K-gtu",
        "colab_type": "text"
      },
      "cell_type": "markdown",
      "source": [
        "Scaling the data that we didn't touch between 0 and 1."
      ]
    },
    {
      "metadata": {
        "id": "PWv3y7HXnNIk",
        "colab_type": "code",
        "colab": {
          "base_uri": "https://localhost:8080/",
          "height": 287
        },
        "outputId": "48982707-db91-420b-cdf9-22c6fe9d4ac2"
      },
      "cell_type": "code",
      "source": [
        "from sklearn.preprocessing import minmax_scale\n",
        "data[['age','fnlwgt','education.num','capital.gain','capital.loss','hours.per.week']] = minmax_scale(data[['age','fnlwgt','education.num','capital.gain','capital.loss','hours.per.week']])\n",
        "data.head()"
      ],
      "execution_count": 6,
      "outputs": [
        {
          "output_type": "execute_result",
          "data": {
            "text/html": [
              "<div>\n",
              "<style scoped>\n",
              "    .dataframe tbody tr th:only-of-type {\n",
              "        vertical-align: middle;\n",
              "    }\n",
              "\n",
              "    .dataframe tbody tr th {\n",
              "        vertical-align: top;\n",
              "    }\n",
              "\n",
              "    .dataframe thead th {\n",
              "        text-align: right;\n",
              "    }\n",
              "</style>\n",
              "<table border=\"1\" class=\"dataframe\">\n",
              "  <thead>\n",
              "    <tr style=\"text-align: right;\">\n",
              "      <th></th>\n",
              "      <th>age</th>\n",
              "      <th>fnlwgt</th>\n",
              "      <th>education.num</th>\n",
              "      <th>capital.gain</th>\n",
              "      <th>capital.loss</th>\n",
              "      <th>hours.per.week</th>\n",
              "      <th>workclass_ Federal-gov</th>\n",
              "      <th>workclass_ Local-gov</th>\n",
              "      <th>workclass_ Never-worked</th>\n",
              "      <th>workclass_ Private</th>\n",
              "      <th>...</th>\n",
              "      <th>native.country_ Puerto-Rico</th>\n",
              "      <th>native.country_ Scotland</th>\n",
              "      <th>native.country_ South</th>\n",
              "      <th>native.country_ Taiwan</th>\n",
              "      <th>native.country_ Thailand</th>\n",
              "      <th>native.country_ Trinadad&amp;Tobago</th>\n",
              "      <th>native.country_ United-States</th>\n",
              "      <th>native.country_ Vietnam</th>\n",
              "      <th>native.country_ Yugoslavia</th>\n",
              "      <th>income_ &lt;=50K</th>\n",
              "    </tr>\n",
              "  </thead>\n",
              "  <tbody>\n",
              "    <tr>\n",
              "      <th>0</th>\n",
              "      <td>0.301370</td>\n",
              "      <td>0.043338</td>\n",
              "      <td>0.800000</td>\n",
              "      <td>0.02174</td>\n",
              "      <td>0.0</td>\n",
              "      <td>0.397959</td>\n",
              "      <td>0</td>\n",
              "      <td>0</td>\n",
              "      <td>0</td>\n",
              "      <td>0</td>\n",
              "      <td>...</td>\n",
              "      <td>0</td>\n",
              "      <td>0</td>\n",
              "      <td>0</td>\n",
              "      <td>0</td>\n",
              "      <td>0</td>\n",
              "      <td>0</td>\n",
              "      <td>1</td>\n",
              "      <td>0</td>\n",
              "      <td>0</td>\n",
              "      <td>1</td>\n",
              "    </tr>\n",
              "    <tr>\n",
              "      <th>1</th>\n",
              "      <td>0.452055</td>\n",
              "      <td>0.047277</td>\n",
              "      <td>0.800000</td>\n",
              "      <td>0.00000</td>\n",
              "      <td>0.0</td>\n",
              "      <td>0.122449</td>\n",
              "      <td>0</td>\n",
              "      <td>0</td>\n",
              "      <td>0</td>\n",
              "      <td>0</td>\n",
              "      <td>...</td>\n",
              "      <td>0</td>\n",
              "      <td>0</td>\n",
              "      <td>0</td>\n",
              "      <td>0</td>\n",
              "      <td>0</td>\n",
              "      <td>0</td>\n",
              "      <td>1</td>\n",
              "      <td>0</td>\n",
              "      <td>0</td>\n",
              "      <td>1</td>\n",
              "    </tr>\n",
              "    <tr>\n",
              "      <th>2</th>\n",
              "      <td>0.287671</td>\n",
              "      <td>0.137244</td>\n",
              "      <td>0.533333</td>\n",
              "      <td>0.00000</td>\n",
              "      <td>0.0</td>\n",
              "      <td>0.397959</td>\n",
              "      <td>0</td>\n",
              "      <td>0</td>\n",
              "      <td>0</td>\n",
              "      <td>1</td>\n",
              "      <td>...</td>\n",
              "      <td>0</td>\n",
              "      <td>0</td>\n",
              "      <td>0</td>\n",
              "      <td>0</td>\n",
              "      <td>0</td>\n",
              "      <td>0</td>\n",
              "      <td>1</td>\n",
              "      <td>0</td>\n",
              "      <td>0</td>\n",
              "      <td>1</td>\n",
              "    </tr>\n",
              "    <tr>\n",
              "      <th>3</th>\n",
              "      <td>0.493151</td>\n",
              "      <td>0.150212</td>\n",
              "      <td>0.400000</td>\n",
              "      <td>0.00000</td>\n",
              "      <td>0.0</td>\n",
              "      <td>0.397959</td>\n",
              "      <td>0</td>\n",
              "      <td>0</td>\n",
              "      <td>0</td>\n",
              "      <td>1</td>\n",
              "      <td>...</td>\n",
              "      <td>0</td>\n",
              "      <td>0</td>\n",
              "      <td>0</td>\n",
              "      <td>0</td>\n",
              "      <td>0</td>\n",
              "      <td>0</td>\n",
              "      <td>1</td>\n",
              "      <td>0</td>\n",
              "      <td>0</td>\n",
              "      <td>1</td>\n",
              "    </tr>\n",
              "    <tr>\n",
              "      <th>4</th>\n",
              "      <td>0.150685</td>\n",
              "      <td>0.220703</td>\n",
              "      <td>0.800000</td>\n",
              "      <td>0.00000</td>\n",
              "      <td>0.0</td>\n",
              "      <td>0.397959</td>\n",
              "      <td>0</td>\n",
              "      <td>0</td>\n",
              "      <td>0</td>\n",
              "      <td>1</td>\n",
              "      <td>...</td>\n",
              "      <td>0</td>\n",
              "      <td>0</td>\n",
              "      <td>0</td>\n",
              "      <td>0</td>\n",
              "      <td>0</td>\n",
              "      <td>0</td>\n",
              "      <td>0</td>\n",
              "      <td>0</td>\n",
              "      <td>0</td>\n",
              "      <td>1</td>\n",
              "    </tr>\n",
              "  </tbody>\n",
              "</table>\n",
              "<p>5 rows × 105 columns</p>\n",
              "</div>"
            ],
            "text/plain": [
              "        age    fnlwgt  education.num  capital.gain  capital.loss  \\\n",
              "0  0.301370  0.043338       0.800000       0.02174           0.0   \n",
              "1  0.452055  0.047277       0.800000       0.00000           0.0   \n",
              "2  0.287671  0.137244       0.533333       0.00000           0.0   \n",
              "3  0.493151  0.150212       0.400000       0.00000           0.0   \n",
              "4  0.150685  0.220703       0.800000       0.00000           0.0   \n",
              "\n",
              "   hours.per.week  workclass_ Federal-gov  workclass_ Local-gov  \\\n",
              "0        0.397959                       0                     0   \n",
              "1        0.122449                       0                     0   \n",
              "2        0.397959                       0                     0   \n",
              "3        0.397959                       0                     0   \n",
              "4        0.397959                       0                     0   \n",
              "\n",
              "   workclass_ Never-worked  workclass_ Private      ...        \\\n",
              "0                        0                   0      ...         \n",
              "1                        0                   0      ...         \n",
              "2                        0                   1      ...         \n",
              "3                        0                   1      ...         \n",
              "4                        0                   1      ...         \n",
              "\n",
              "   native.country_ Puerto-Rico  native.country_ Scotland  \\\n",
              "0                            0                         0   \n",
              "1                            0                         0   \n",
              "2                            0                         0   \n",
              "3                            0                         0   \n",
              "4                            0                         0   \n",
              "\n",
              "   native.country_ South  native.country_ Taiwan  native.country_ Thailand  \\\n",
              "0                      0                       0                         0   \n",
              "1                      0                       0                         0   \n",
              "2                      0                       0                         0   \n",
              "3                      0                       0                         0   \n",
              "4                      0                       0                         0   \n",
              "\n",
              "   native.country_ Trinadad&Tobago  native.country_ United-States  \\\n",
              "0                                0                              1   \n",
              "1                                0                              1   \n",
              "2                                0                              1   \n",
              "3                                0                              1   \n",
              "4                                0                              0   \n",
              "\n",
              "   native.country_ Vietnam  native.country_ Yugoslavia  income_ <=50K  \n",
              "0                        0                           0              1  \n",
              "1                        0                           0              1  \n",
              "2                        0                           0              1  \n",
              "3                        0                           0              1  \n",
              "4                        0                           0              1  \n",
              "\n",
              "[5 rows x 105 columns]"
            ]
          },
          "metadata": {
            "tags": []
          },
          "execution_count": 6
        }
      ]
    },
    {
      "metadata": {
        "id": "-w9_5lbc-s_V",
        "colab_type": "text"
      },
      "cell_type": "markdown",
      "source": [
        "Dividing the data into target and the rest. Target is to find if the income is below 50K or not"
      ]
    },
    {
      "metadata": {
        "id": "-SaCDQRcnnqN",
        "colab_type": "code",
        "colab": {
          "base_uri": "https://localhost:8080/",
          "height": 287
        },
        "outputId": "2ebf3920-ef1c-4dd2-b61e-7cff19d89e2e"
      },
      "cell_type": "code",
      "source": [
        "X = data.drop('income_ <=50K',axis=1)\n",
        "y = data['income_ <=50K']\n",
        "X.head()"
      ],
      "execution_count": 7,
      "outputs": [
        {
          "output_type": "execute_result",
          "data": {
            "text/html": [
              "<div>\n",
              "<style scoped>\n",
              "    .dataframe tbody tr th:only-of-type {\n",
              "        vertical-align: middle;\n",
              "    }\n",
              "\n",
              "    .dataframe tbody tr th {\n",
              "        vertical-align: top;\n",
              "    }\n",
              "\n",
              "    .dataframe thead th {\n",
              "        text-align: right;\n",
              "    }\n",
              "</style>\n",
              "<table border=\"1\" class=\"dataframe\">\n",
              "  <thead>\n",
              "    <tr style=\"text-align: right;\">\n",
              "      <th></th>\n",
              "      <th>age</th>\n",
              "      <th>fnlwgt</th>\n",
              "      <th>education.num</th>\n",
              "      <th>capital.gain</th>\n",
              "      <th>capital.loss</th>\n",
              "      <th>hours.per.week</th>\n",
              "      <th>workclass_ Federal-gov</th>\n",
              "      <th>workclass_ Local-gov</th>\n",
              "      <th>workclass_ Never-worked</th>\n",
              "      <th>workclass_ Private</th>\n",
              "      <th>...</th>\n",
              "      <th>native.country_ Portugal</th>\n",
              "      <th>native.country_ Puerto-Rico</th>\n",
              "      <th>native.country_ Scotland</th>\n",
              "      <th>native.country_ South</th>\n",
              "      <th>native.country_ Taiwan</th>\n",
              "      <th>native.country_ Thailand</th>\n",
              "      <th>native.country_ Trinadad&amp;Tobago</th>\n",
              "      <th>native.country_ United-States</th>\n",
              "      <th>native.country_ Vietnam</th>\n",
              "      <th>native.country_ Yugoslavia</th>\n",
              "    </tr>\n",
              "  </thead>\n",
              "  <tbody>\n",
              "    <tr>\n",
              "      <th>0</th>\n",
              "      <td>0.301370</td>\n",
              "      <td>0.043338</td>\n",
              "      <td>0.800000</td>\n",
              "      <td>0.02174</td>\n",
              "      <td>0.0</td>\n",
              "      <td>0.397959</td>\n",
              "      <td>0</td>\n",
              "      <td>0</td>\n",
              "      <td>0</td>\n",
              "      <td>0</td>\n",
              "      <td>...</td>\n",
              "      <td>0</td>\n",
              "      <td>0</td>\n",
              "      <td>0</td>\n",
              "      <td>0</td>\n",
              "      <td>0</td>\n",
              "      <td>0</td>\n",
              "      <td>0</td>\n",
              "      <td>1</td>\n",
              "      <td>0</td>\n",
              "      <td>0</td>\n",
              "    </tr>\n",
              "    <tr>\n",
              "      <th>1</th>\n",
              "      <td>0.452055</td>\n",
              "      <td>0.047277</td>\n",
              "      <td>0.800000</td>\n",
              "      <td>0.00000</td>\n",
              "      <td>0.0</td>\n",
              "      <td>0.122449</td>\n",
              "      <td>0</td>\n",
              "      <td>0</td>\n",
              "      <td>0</td>\n",
              "      <td>0</td>\n",
              "      <td>...</td>\n",
              "      <td>0</td>\n",
              "      <td>0</td>\n",
              "      <td>0</td>\n",
              "      <td>0</td>\n",
              "      <td>0</td>\n",
              "      <td>0</td>\n",
              "      <td>0</td>\n",
              "      <td>1</td>\n",
              "      <td>0</td>\n",
              "      <td>0</td>\n",
              "    </tr>\n",
              "    <tr>\n",
              "      <th>2</th>\n",
              "      <td>0.287671</td>\n",
              "      <td>0.137244</td>\n",
              "      <td>0.533333</td>\n",
              "      <td>0.00000</td>\n",
              "      <td>0.0</td>\n",
              "      <td>0.397959</td>\n",
              "      <td>0</td>\n",
              "      <td>0</td>\n",
              "      <td>0</td>\n",
              "      <td>1</td>\n",
              "      <td>...</td>\n",
              "      <td>0</td>\n",
              "      <td>0</td>\n",
              "      <td>0</td>\n",
              "      <td>0</td>\n",
              "      <td>0</td>\n",
              "      <td>0</td>\n",
              "      <td>0</td>\n",
              "      <td>1</td>\n",
              "      <td>0</td>\n",
              "      <td>0</td>\n",
              "    </tr>\n",
              "    <tr>\n",
              "      <th>3</th>\n",
              "      <td>0.493151</td>\n",
              "      <td>0.150212</td>\n",
              "      <td>0.400000</td>\n",
              "      <td>0.00000</td>\n",
              "      <td>0.0</td>\n",
              "      <td>0.397959</td>\n",
              "      <td>0</td>\n",
              "      <td>0</td>\n",
              "      <td>0</td>\n",
              "      <td>1</td>\n",
              "      <td>...</td>\n",
              "      <td>0</td>\n",
              "      <td>0</td>\n",
              "      <td>0</td>\n",
              "      <td>0</td>\n",
              "      <td>0</td>\n",
              "      <td>0</td>\n",
              "      <td>0</td>\n",
              "      <td>1</td>\n",
              "      <td>0</td>\n",
              "      <td>0</td>\n",
              "    </tr>\n",
              "    <tr>\n",
              "      <th>4</th>\n",
              "      <td>0.150685</td>\n",
              "      <td>0.220703</td>\n",
              "      <td>0.800000</td>\n",
              "      <td>0.00000</td>\n",
              "      <td>0.0</td>\n",
              "      <td>0.397959</td>\n",
              "      <td>0</td>\n",
              "      <td>0</td>\n",
              "      <td>0</td>\n",
              "      <td>1</td>\n",
              "      <td>...</td>\n",
              "      <td>0</td>\n",
              "      <td>0</td>\n",
              "      <td>0</td>\n",
              "      <td>0</td>\n",
              "      <td>0</td>\n",
              "      <td>0</td>\n",
              "      <td>0</td>\n",
              "      <td>0</td>\n",
              "      <td>0</td>\n",
              "      <td>0</td>\n",
              "    </tr>\n",
              "  </tbody>\n",
              "</table>\n",
              "<p>5 rows × 104 columns</p>\n",
              "</div>"
            ],
            "text/plain": [
              "        age    fnlwgt  education.num  capital.gain  capital.loss  \\\n",
              "0  0.301370  0.043338       0.800000       0.02174           0.0   \n",
              "1  0.452055  0.047277       0.800000       0.00000           0.0   \n",
              "2  0.287671  0.137244       0.533333       0.00000           0.0   \n",
              "3  0.493151  0.150212       0.400000       0.00000           0.0   \n",
              "4  0.150685  0.220703       0.800000       0.00000           0.0   \n",
              "\n",
              "   hours.per.week  workclass_ Federal-gov  workclass_ Local-gov  \\\n",
              "0        0.397959                       0                     0   \n",
              "1        0.122449                       0                     0   \n",
              "2        0.397959                       0                     0   \n",
              "3        0.397959                       0                     0   \n",
              "4        0.397959                       0                     0   \n",
              "\n",
              "   workclass_ Never-worked  workclass_ Private             ...              \\\n",
              "0                        0                   0             ...               \n",
              "1                        0                   0             ...               \n",
              "2                        0                   1             ...               \n",
              "3                        0                   1             ...               \n",
              "4                        0                   1             ...               \n",
              "\n",
              "   native.country_ Portugal  native.country_ Puerto-Rico  \\\n",
              "0                         0                            0   \n",
              "1                         0                            0   \n",
              "2                         0                            0   \n",
              "3                         0                            0   \n",
              "4                         0                            0   \n",
              "\n",
              "   native.country_ Scotland  native.country_ South  native.country_ Taiwan  \\\n",
              "0                         0                      0                       0   \n",
              "1                         0                      0                       0   \n",
              "2                         0                      0                       0   \n",
              "3                         0                      0                       0   \n",
              "4                         0                      0                       0   \n",
              "\n",
              "   native.country_ Thailand  native.country_ Trinadad&Tobago  \\\n",
              "0                         0                                0   \n",
              "1                         0                                0   \n",
              "2                         0                                0   \n",
              "3                         0                                0   \n",
              "4                         0                                0   \n",
              "\n",
              "   native.country_ United-States  native.country_ Vietnam  \\\n",
              "0                              1                        0   \n",
              "1                              1                        0   \n",
              "2                              1                        0   \n",
              "3                              1                        0   \n",
              "4                              0                        0   \n",
              "\n",
              "   native.country_ Yugoslavia  \n",
              "0                           0  \n",
              "1                           0  \n",
              "2                           0  \n",
              "3                           0  \n",
              "4                           0  \n",
              "\n",
              "[5 rows x 104 columns]"
            ]
          },
          "metadata": {
            "tags": []
          },
          "execution_count": 7
        }
      ]
    },
    {
      "metadata": {
        "id": "vl2cKRArqLoR",
        "colab_type": "code",
        "colab": {
          "base_uri": "https://localhost:8080/",
          "height": 119
        },
        "outputId": "4bc3ead8-0b9f-45dc-ca50-7749bd5295ac"
      },
      "cell_type": "code",
      "source": [
        "y.head()"
      ],
      "execution_count": 8,
      "outputs": [
        {
          "output_type": "execute_result",
          "data": {
            "text/plain": [
              "0    1\n",
              "1    1\n",
              "2    1\n",
              "3    1\n",
              "4    1\n",
              "Name: income_ <=50K, dtype: uint8"
            ]
          },
          "metadata": {
            "tags": []
          },
          "execution_count": 8
        }
      ]
    },
    {
      "metadata": {
        "id": "qOX1dwnh_CDc",
        "colab_type": "text"
      },
      "cell_type": "markdown",
      "source": [
        "Splitting the data into test and train data"
      ]
    },
    {
      "metadata": {
        "id": "BK5xuMv6qYLj",
        "colab_type": "code",
        "colab": {}
      },
      "cell_type": "code",
      "source": [
        "from sklearn.model_selection import train_test_split\n",
        "from sklearn.metrics import accuracy_score\n",
        "\n",
        "X_train, X_test, y_train, y_test = train_test_split(X, y, test_size = 0.2, random_state = 1)"
      ],
      "execution_count": 0,
      "outputs": []
    },
    {
      "metadata": {
        "id": "0MH7IOXI_SRm",
        "colab_type": "text"
      },
      "cell_type": "markdown",
      "source": [
        "# Logistic Regression\n",
        "Training the model with the data and testing it."
      ]
    },
    {
      "metadata": {
        "id": "52P0iZsgyY8Z",
        "colab_type": "code",
        "colab": {
          "base_uri": "https://localhost:8080/",
          "height": 34
        },
        "outputId": "ff348109-989c-4c6c-a682-de4e7439102b"
      },
      "cell_type": "code",
      "source": [
        "from sklearn.linear_model import LogisticRegression\n",
        "logRegression = LogisticRegression().fit(X_train, y_train)\n",
        "accuracy_score(y_test,logRegression.predict(X_test))"
      ],
      "execution_count": 10,
      "outputs": [
        {
          "output_type": "execute_result",
          "data": {
            "text/plain": [
              "0.846676611967512"
            ]
          },
          "metadata": {
            "tags": []
          },
          "execution_count": 10
        }
      ]
    },
    {
      "metadata": {
        "id": "7GlzQ4rbBrVF",
        "colab_type": "text"
      },
      "cell_type": "markdown",
      "source": [
        "##Cross walidation for Logistic Regression"
      ]
    },
    {
      "metadata": {
        "id": "1zJPygf2BwS8",
        "colab_type": "code",
        "colab": {
          "base_uri": "https://localhost:8080/",
          "height": 51
        },
        "outputId": "6806d363-06bd-456f-ec3e-b115e8cf17ae"
      },
      "cell_type": "code",
      "source": [
        "from sklearn.model_selection import cross_validate\n",
        "\n",
        "cv_results = cross_validate(logRegression, X, y, cv=10,return_train_score=False)\n",
        "sorted(cv_results.keys())                         \n",
        "\n",
        "cv_results['test_score']    "
      ],
      "execution_count": 11,
      "outputs": [
        {
          "output_type": "execute_result",
          "data": {
            "text/plain": [
              "array([0.83891283, 0.84454756, 0.84653629, 0.83327809, 0.84913793,\n",
              "       0.84880637, 0.85013263, 0.85477454, 0.85406302, 0.84378109])"
            ]
          },
          "metadata": {
            "tags": []
          },
          "execution_count": 11
        }
      ]
    },
    {
      "metadata": {
        "id": "SAXwF210_eN5",
        "colab_type": "text"
      },
      "cell_type": "markdown",
      "source": [
        "##Grid Search for Logistic Regression"
      ]
    },
    {
      "metadata": {
        "id": "XqDzkPSMygVk",
        "colab_type": "code",
        "colab": {
          "base_uri": "https://localhost:8080/",
          "height": 85
        },
        "outputId": "5d5b5822-7f53-4e27-b055-0a0ccb236474"
      },
      "cell_type": "code",
      "source": [
        "from sklearn.model_selection import GridSearchCV\n",
        "param_grid = {\"C\":np.logspace(-3,3,7), \"penalty\":[\"l1\",\"l2\"]}\n",
        "grid = GridSearchCV(logRegression, param_grid, cv=10, scoring='accuracy')\n",
        "\n",
        "%time grid.fit(X_train, y_train)\n",
        "print(grid.best_params_)\n",
        "logRegression = grid.best_estimator_\n",
        "accuracy_score(y_test,logRegression.predict(X_test))"
      ],
      "execution_count": 12,
      "outputs": [
        {
          "output_type": "stream",
          "text": [
            "CPU times: user 4min 25s, sys: 13.6 s, total: 4min 39s\n",
            "Wall time: 4min 21s\n",
            "{'C': 10.0, 'penalty': 'l2'}\n"
          ],
          "name": "stdout"
        },
        {
          "output_type": "execute_result",
          "data": {
            "text/plain": [
              "0.849494447207028"
            ]
          },
          "metadata": {
            "tags": []
          },
          "execution_count": 12
        }
      ]
    },
    {
      "metadata": {
        "id": "B4i7M7Mq_vsn",
        "colab_type": "text"
      },
      "cell_type": "markdown",
      "source": [
        "#Decision Tree\n",
        "Training the classifier with the data and testing it."
      ]
    },
    {
      "metadata": {
        "id": "Yl6Bmqe_I9qx",
        "colab_type": "text"
      },
      "cell_type": "markdown",
      "source": [
        ""
      ]
    },
    {
      "metadata": {
        "id": "lgNN72QAr6Ao",
        "colab_type": "code",
        "colab": {
          "base_uri": "https://localhost:8080/",
          "height": 34
        },
        "outputId": "f3030b64-7156-46be-d867-4df2f04343ce"
      },
      "cell_type": "code",
      "source": [
        "from sklearn.tree import DecisionTreeClassifier\n",
        "tree = DecisionTreeClassifier().fit(X_train, y_train)\n",
        "accuracy_score(y_test,tree.predict(X_test))"
      ],
      "execution_count": 13,
      "outputs": [
        {
          "output_type": "execute_result",
          "data": {
            "text/plain": [
              "0.8107077739101608"
            ]
          },
          "metadata": {
            "tags": []
          },
          "execution_count": 13
        }
      ]
    },
    {
      "metadata": {
        "id": "NnmjizIHBgdA",
        "colab_type": "text"
      },
      "cell_type": "markdown",
      "source": [
        "##Cross validation for Decision Tree"
      ]
    },
    {
      "metadata": {
        "id": "eclBWoYxBm-q",
        "colab_type": "code",
        "colab": {
          "base_uri": "https://localhost:8080/",
          "height": 51
        },
        "outputId": "bb4ed3b2-f519-41c2-c28c-c3917893cddd"
      },
      "cell_type": "code",
      "source": [
        "cv_results = cross_validate(tree, X, y, cv=10,return_train_score=False)\n",
        "sorted(cv_results.keys())                         \n",
        "\n",
        "cv_results['test_score']"
      ],
      "execution_count": 14,
      "outputs": [
        {
          "output_type": "execute_result",
          "data": {
            "text/plain": [
              "array([0.80278422, 0.80941332, 0.80245277, 0.80609877, 0.81797082,\n",
              "       0.81564987, 0.81200265, 0.81598143, 0.82189055, 0.80199005])"
            ]
          },
          "metadata": {
            "tags": []
          },
          "execution_count": 14
        }
      ]
    },
    {
      "metadata": {
        "id": "RffHvHzzANLZ",
        "colab_type": "text"
      },
      "cell_type": "markdown",
      "source": [
        "##Grid Search for Decision Tree"
      ]
    },
    {
      "metadata": {
        "id": "oxCOxDU2AQyK",
        "colab_type": "code",
        "colab": {
          "base_uri": "https://localhost:8080/",
          "height": 85
        },
        "outputId": "3a4b669c-29b3-40ac-d3ea-7eced3db3da2"
      },
      "cell_type": "code",
      "source": [
        "depths = np.arange(1, 21)\n",
        "num_leafs = [1, 5, 10, 20, 50, 100]\n",
        "\n",
        "param_grid = [{'max_depth':depths,\n",
        "              'min_samples_leaf':num_leafs}]\n",
        "grid = GridSearchCV(tree, param_grid, cv=10, scoring='accuracy')\n",
        "\n",
        "%time grid.fit(X_train, y_train)\n",
        "print(grid.best_params_)\n",
        "tree = grid.best_estimator_\n",
        "accuracy_score(y_test,tree.predict(X_test))"
      ],
      "execution_count": 15,
      "outputs": [
        {
          "output_type": "stream",
          "text": [
            "CPU times: user 3min 48s, sys: 955 ms, total: 3min 49s\n",
            "Wall time: 3min 49s\n",
            "{'max_depth': 7, 'min_samples_leaf': 1}\n"
          ],
          "name": "stdout"
        },
        {
          "output_type": "execute_result",
          "data": {
            "text/plain": [
              "0.848499917122493"
            ]
          },
          "metadata": {
            "tags": []
          },
          "execution_count": 15
        }
      ]
    },
    {
      "metadata": {
        "id": "oRKJs3GivMbq",
        "colab_type": "text"
      },
      "cell_type": "markdown",
      "source": [
        "#K-Nearest Neighbors\n",
        "Training the classifier with the data and testing it."
      ]
    },
    {
      "metadata": {
        "id": "D_u43TU8vz0L",
        "colab_type": "code",
        "colab": {
          "base_uri": "https://localhost:8080/",
          "height": 34
        },
        "outputId": "a0dd9ad3-f362-4e82-a54c-681a41cc64c6"
      },
      "cell_type": "code",
      "source": [
        "from sklearn.neighbors import KNeighborsClassifier\n",
        "\n",
        "KNN = KNeighborsClassifier(n_neighbors=5).fit(X_train,y_train)\n",
        "accuracy_score(y_test,KNN.predict(X_test))"
      ],
      "execution_count": 16,
      "outputs": [
        {
          "output_type": "execute_result",
          "data": {
            "text/plain": [
              "0.8302668655726836"
            ]
          },
          "metadata": {
            "tags": []
          },
          "execution_count": 16
        }
      ]
    },
    {
      "metadata": {
        "id": "4uLPMfTjB_Rq",
        "colab_type": "text"
      },
      "cell_type": "markdown",
      "source": [
        "##Cross Validation for KNN"
      ]
    },
    {
      "metadata": {
        "id": "j2yPqYPACC0I",
        "colab_type": "code",
        "colab": {
          "base_uri": "https://localhost:8080/",
          "height": 51
        },
        "outputId": "b7ab8f53-bad8-4089-ad47-c3d88dffcb47"
      },
      "cell_type": "code",
      "source": [
        "cv_results = cross_validate(KNN, X, y, cv=10,return_train_score=False)\n",
        "sorted(cv_results.keys())                         \n",
        "\n",
        "cv_results['test_score']"
      ],
      "execution_count": 17,
      "outputs": [
        {
          "output_type": "execute_result",
          "data": {
            "text/plain": [
              "array([0.81537952, 0.81902552, 0.83162082, 0.82499171, 0.82559682,\n",
              "       0.81797082, 0.81929708, 0.83023873, 0.82719735, 0.81558872])"
            ]
          },
          "metadata": {
            "tags": []
          },
          "execution_count": 17
        }
      ]
    },
    {
      "metadata": {
        "id": "JcEJncD_CGZj",
        "colab_type": "text"
      },
      "cell_type": "markdown",
      "source": [
        "##Grid Search for KNN"
      ]
    },
    {
      "metadata": {
        "id": "uQsDbwCvCLq-",
        "colab_type": "code",
        "colab": {}
      },
      "cell_type": "code",
      "source": [
        "k_range = list(range(1, 31))\n",
        "\n",
        "param_grid = [{'n_neighbors':k_range}]\n",
        "grid = GridSearchCV(KNN, param_grid, cv=10, scoring='accuracy')\n",
        "\n",
        "%time grid.fit(X_train, y_train)\n",
        "print(grid.best_params_)\n",
        "KNN = grid.best_estimator_\n",
        "accuracy_score(y_test,KNN.predict(X_test))"
      ],
      "execution_count": 0,
      "outputs": []
    },
    {
      "metadata": {
        "id": "O1Q4KwdcDVZp",
        "colab_type": "text"
      },
      "cell_type": "markdown",
      "source": [
        "#Support Vector Machine\n",
        "Training the classifier with the data and testing it."
      ]
    },
    {
      "metadata": {
        "id": "WNPiYkO5xA1j",
        "colab_type": "code",
        "colab": {}
      },
      "cell_type": "code",
      "source": [
        "from sklearn.svm import SVC \n",
        "SVM = SVC().fit(X_train,y_train)\n",
        "accuracy_score(y_test,SVM.predict(X_test))\n"
      ],
      "execution_count": 0,
      "outputs": []
    },
    {
      "metadata": {
        "id": "StrSbKedDdvb",
        "colab_type": "text"
      },
      "cell_type": "markdown",
      "source": [
        "## Cross validation for SVM\n"
      ]
    },
    {
      "metadata": {
        "id": "x0vVMqoxDh2S",
        "colab_type": "code",
        "colab": {}
      },
      "cell_type": "code",
      "source": [
        "cv_results = cross_validate(SVM, X, y, cv=10,return_train_score=False)\n",
        "sorted(cv_results.keys())                         \n",
        "\n",
        "cv_results['test_score']"
      ],
      "execution_count": 0,
      "outputs": []
    },
    {
      "metadata": {
        "id": "b8wLzpv1DiS5",
        "colab_type": "text"
      },
      "cell_type": "markdown",
      "source": [
        "##Grid Search for SVM"
      ]
    },
    {
      "metadata": {
        "id": "mE8HB6G4DlCl",
        "colab_type": "code",
        "colab": {}
      },
      "cell_type": "code",
      "source": [
        "param_grid = {'svc__C': [1, 5, 10, 50],\n",
        "              'svc__gamma': [0.0001, 0.0005, 0.001, 0.005]}\n",
        "grid = GridSearchCV(SVM, param_grid)\n",
        "\n",
        "%time grid.fit(X_train, y_train)\n",
        "print(grid.best_params_)\n",
        "SVM = grid.best_estimator_\n",
        "accuracy_score(y_test,SVM.predict(X_test))"
      ],
      "execution_count": 0,
      "outputs": []
    }
  ]
}